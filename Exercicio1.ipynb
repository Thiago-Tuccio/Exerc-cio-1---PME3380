{
  "cells": [
    {
      "cell_type": "code",
      "execution_count": 13,
      "metadata": {
        "id": "ZMjPjO65hbxk"
      },
      "outputs": [],
      "source": [
        "import sympy\n",
        "from sympy import *\n",
        "from sympy.physics.mechanics import *\n",
        "from sympy.abc import t"
      ]
    },
    {
      "cell_type": "code",
      "source": [
        "import numpy as np\n",
        "import sympy as sp\n",
        "from scipy.integrate import odeint\n",
        "import matplotlib.pyplot as plt\n",
        "from scipy.integrate import solve_ivp\n",
        "import math\n",
        "from scipy.integrate import RK45"
      ],
      "metadata": {
        "id": "Cw4Ocz-jRcgp"
      },
      "execution_count": 14,
      "outputs": []
    },
    {
      "cell_type": "code",
      "execution_count": 15,
      "metadata": {
        "id": "OtuKpvJ1hbxm",
        "outputId": "81e355e8-14b5-4d77-ec49-086a04a97c46",
        "colab": {
          "base_uri": "https://localhost:8080/"
        }
      },
      "outputs": [
        {
          "output_type": "stream",
          "name": "stdout",
          "text": [
            "\n"
          ]
        }
      ],
      "source": [
        " init_printing(pretty_print=True)\n",
        " init_printing(use_unicode=True)\n",
        " init_session(quiet = True )\n",
        " mechanics_printing(pretty_print=True)"
      ]
    },
    {
      "cell_type": "code",
      "execution_count": 16,
      "metadata": {
        "id": "ZFEDbkoYhbxp"
      },
      "outputs": [],
      "source": [
        "#Variáveis\n",
        "theta1=Function('theta1')(t)\n",
        "theta2=Function('theta2')(t)\n",
        "l1 = sympy.Symbol('l1')\n",
        "l2 = sympy.Symbol('l2')\n",
        "m1 = sympy.Symbol('m1')\n",
        "m2 = sympy.Symbol('m2')\n",
        "g = sympy.Symbol('g')\n",
        "\n",
        "\n",
        "#Contas\n",
        "#posição primeira barra\n",
        "x1 = (l1/2)*sympy.sin(theta1)\n",
        "y1 = -(l1/2)*sympy.cos(theta1)\n",
        "x1p = diff(x1,t)\n",
        "y1p = diff(y1,t)\n",
        "\n",
        "#Posição segunda barra\n",
        "x2 = l1*sympy.sin(theta1)+(l2/2)*sympy.sin(theta2)\n",
        "y2 = -l1*sympy.cos(theta1)-(l2/2)*sympy.cos(theta2)\n",
        "x2p = diff(x2,t)\n",
        "y2p = diff(y2,t)\n",
        "\n",
        "#Momento de inercia\n",
        "i1 = m1*l1**2/12\n",
        "i2 = m2*l2**2/12\n",
        "\n",
        "#Velocidades\n",
        "v1 = sympy.sqrt(x1p**2 + y1p**2)\n",
        "v2 = sympy.sqrt(x2p**2 + y2p**2)\n",
        "theta1_p = simplify(diff(theta1,t))\n",
        "theta2_p = simplify(diff(theta2,t))\n",
        "\n",
        "\n"
      ]
    },
    {
      "cell_type": "markdown",
      "metadata": {
        "id": "6e0SRkCkhbxq"
      },
      "source": [
        "Energia Cinética"
      ]
    },
    {
      "cell_type": "code",
      "execution_count": 17,
      "metadata": {
        "id": "GkPZo6BAhbxs",
        "outputId": "2ef247d8-2d67-4986-c956-340bd888e723",
        "colab": {
          "base_uri": "https://localhost:8080/",
          "height": 56
        }
      },
      "outputs": [
        {
          "output_type": "execute_result",
          "data": {
            "text/plain": [
              "  2      2     2      2                                   2      2\n",
              "l₁ ⋅m₁⋅θ₁̇    l₁ ⋅m₂⋅θ₁̇    l₁⋅l₂⋅m₂⋅cos(θ₁ - θ₂)⋅θ₁̇⋅θ₂̇   l₂ ⋅m₂⋅θ₂̇ \n",
              "────────── + ────────── + ─────────────────────────── + ──────────\n",
              "    6            2                     2                    6     "
            ],
            "text/latex": "$\\displaystyle \\frac{l_{1}^{2} m_{1} \\dot{\\theta}_{1}^{2}}{6} + \\frac{l_{1}^{2} m_{2} \\dot{\\theta}_{1}^{2}}{2} + \\frac{l_{1} l_{2} m_{2} \\cos{\\left(\\theta_{1} - \\theta_{2} \\right)} \\dot{\\theta}_{1} \\dot{\\theta}_{2}}{2} + \\frac{l_{2}^{2} m_{2} \\dot{\\theta}_{2}^{2}}{6}$"
          },
          "metadata": {},
          "execution_count": 17
        }
      ],
      "source": [
        "T = (m1*v1**2)/2 + i1*theta1_p**2/2 + (m2*v2**2)/2 + i2*theta2_p**2/2\n",
        "#T = (m2*v2**2)/2\n",
        "simplify(T)\n",
        "\n"
      ]
    },
    {
      "cell_type": "markdown",
      "metadata": {
        "id": "uLOI5j6vhbxt"
      },
      "source": [
        "Energia Potencial"
      ]
    },
    {
      "cell_type": "code",
      "execution_count": 18,
      "metadata": {
        "id": "WzK9tXclhbxu",
        "outputId": "c263e9b5-d55e-49af-c193-30ecc93dc5cd",
        "colab": {
          "base_uri": "https://localhost:8080/",
          "height": 58
        }
      },
      "outputs": [
        {
          "output_type": "execute_result",
          "data": {
            "text/plain": [
              "  g⋅l₁⋅m₁⋅cos(θ₁)        ⎛              l₂⋅cos(θ₂)⎞\n",
              "- ─────────────── + g⋅m₂⋅⎜-l₁⋅cos(θ₁) - ──────────⎟\n",
              "         2               ⎝                  2     ⎠"
            ],
            "text/latex": "$\\displaystyle - \\frac{g l_{1} m_{1} \\cos{\\left(\\theta_{1} \\right)}}{2} + g m_{2} \\left(- l_{1} \\cos{\\left(\\theta_{1} \\right)} - \\frac{l_{2} \\cos{\\left(\\theta_{2} \\right)}}{2}\\right)$"
          },
          "metadata": {},
          "execution_count": 18
        }
      ],
      "source": [
        "V = m1*g*y1 + m2*g*y2\n",
        "V"
      ]
    },
    {
      "cell_type": "markdown",
      "metadata": {
        "id": "D5hIDk5Phbxv"
      },
      "source": [
        "Lagrangeano"
      ]
    },
    {
      "cell_type": "code",
      "execution_count": 19,
      "metadata": {
        "id": "YicTUDnShbxw",
        "outputId": "b2a652ba-86d0-4550-8414-d347d92f81b9",
        "colab": {
          "base_uri": "https://localhost:8080/",
          "height": 56
        }
      },
      "outputs": [
        {
          "output_type": "execute_result",
          "data": {
            "text/plain": [
              "                                                        2      2     2      2 \n",
              "g⋅l₁⋅m₁⋅cos(θ₁)                     g⋅l₂⋅m₂⋅cos(θ₂)   l₁ ⋅m₁⋅θ₁̇    l₁ ⋅m₂⋅θ₁̇\n",
              "─────────────── + g⋅l₁⋅m₂⋅cos(θ₁) + ─────────────── + ────────── + ────────── \n",
              "       2                                   2              6            2      \n",
              "\n",
              "                                  2      2\n",
              "    l₁⋅l₂⋅m₂⋅cos(θ₁ - θ₂)⋅θ₁̇⋅θ₂̇   l₂ ⋅m₂⋅θ₂̇ \n",
              "+ ─────────────────────────── + ──────────\n",
              "               2                    6     "
            ],
            "text/latex": "$\\displaystyle \\frac{g l_{1} m_{1} \\cos{\\left(\\theta_{1} \\right)}}{2} + g l_{1} m_{2} \\cos{\\left(\\theta_{1} \\right)} + \\frac{g l_{2} m_{2} \\cos{\\left(\\theta_{2} \\right)}}{2} + \\frac{l_{1}^{2} m_{1} \\dot{\\theta}_{1}^{2}}{6} + \\frac{l_{1}^{2} m_{2} \\dot{\\theta}_{1}^{2}}{2} + \\frac{l_{1} l_{2} m_{2} \\cos{\\left(\\theta_{1} - \\theta_{2} \\right)} \\dot{\\theta}_{1} \\dot{\\theta}_{2}}{2} + \\frac{l_{2}^{2} m_{2} \\dot{\\theta}_{2}^{2}}{6}$"
          },
          "metadata": {},
          "execution_count": 19
        }
      ],
      "source": [
        "L = T - V\n",
        "L = simplify(simplify(L))\n",
        "L"
      ]
    },
    {
      "cell_type": "markdown",
      "metadata": {
        "id": "Sk_j_-j4hbxw"
      },
      "source": [
        "Euler - Lagrange"
      ]
    },
    {
      "cell_type": "code",
      "execution_count": 20,
      "metadata": {
        "id": "uFANIzT8hbxx",
        "outputId": "42a59c93-da88-4b6f-acc4-24ccd5464e80",
        "colab": {
          "base_uri": "https://localhost:8080/",
          "height": 78
        }
      },
      "outputs": [
        {
          "output_type": "execute_result",
          "data": {
            "text/plain": [
              "⎡   ⎛                                                                         \n",
              "⎢l₁⋅⎝3⋅g⋅m₁⋅sin(θ₁) + 6⋅g⋅m₂⋅sin(θ₁) + 2⋅l₁⋅m₁⋅θ₁̈ + 6⋅l₁⋅m₂⋅θ₁̈ + 3⋅l₂⋅m₂⋅sin\n",
              "⎢─────────────────────────────────────────────────────────────────────────────\n",
              "⎢                                                         6                   \n",
              "⎢                                                                             \n",
              "⎢                         ⎛                                  2                \n",
              "⎢                   l₂⋅m₂⋅⎝3⋅g⋅sin(θ₂) - 3⋅l₁⋅sin(θ₁ - θ₂)⋅θ₁̇  + 3⋅l₁⋅cos(θ₁ \n",
              "⎢                   ──────────────────────────────────────────────────────────\n",
              "⎣                                                        6                    \n",
              "\n",
              "          2                          ⎞⎤\n",
              "(θ₁ - θ₂)⋅θ₂̇  + 3⋅l₂⋅m₂⋅cos(θ₁ - θ₂)⋅θ₂̈⎠⎥\n",
              "──────────────────────────────────────⎥\n",
              "                                      ⎥\n",
              "                                      ⎥\n",
              "                 ⎞                    ⎥\n",
              "- θ₂)⋅θ₁̈ + 2⋅l₂⋅θ₂̈⎠                    ⎥\n",
              "──────────────────                    ⎥\n",
              "                                      ⎦"
            ],
            "text/latex": "$\\displaystyle \\left[\\begin{matrix}\\frac{l_{1} \\cdot \\left(3 g m_{1} \\sin{\\left(\\theta_{1} \\right)} + 6 g m_{2} \\sin{\\left(\\theta_{1} \\right)} + 2 l_{1} m_{1} \\ddot{\\theta}_{1} + 6 l_{1} m_{2} \\ddot{\\theta}_{1} + 3 l_{2} m_{2} \\sin{\\left(\\theta_{1} - \\theta_{2} \\right)} \\dot{\\theta}_{2}^{2} + 3 l_{2} m_{2} \\cos{\\left(\\theta_{1} - \\theta_{2} \\right)} \\ddot{\\theta}_{2}\\right)}{6}\\\\\\frac{l_{2} m_{2} \\cdot \\left(3 g \\sin{\\left(\\theta_{2} \\right)} - 3 l_{1} \\sin{\\left(\\theta_{1} - \\theta_{2} \\right)} \\dot{\\theta}_{1}^{2} + 3 l_{1} \\cos{\\left(\\theta_{1} - \\theta_{2} \\right)} \\ddot{\\theta}_{1} + 2 l_{2} \\ddot{\\theta}_{2}\\right)}{6}\\end{matrix}\\right]$"
          },
          "metadata": {},
          "execution_count": 20
        }
      ],
      "source": [
        "LM = LagrangesMethod(L, [theta1, theta2])\n",
        "\n",
        "#mechanics_printing(pretty_print=True)\n",
        "simplify(LM.form_lagranges_equations())"
      ]
    },
    {
      "cell_type": "markdown",
      "metadata": {
        "id": "4UIZMWaJhbxx"
      },
      "source": [
        "Item B"
      ]
    },
    {
      "cell_type": "code",
      "execution_count": 21,
      "metadata": {
        "id": "1nCZDhFDhbxx",
        "outputId": "c6fac7d4-a392-4b66-a2e6-cb403d725a91",
        "colab": {
          "base_uri": "https://localhost:8080/",
          "height": 108
        }
      },
      "outputs": [
        {
          "output_type": "stream",
          "name": "stdout",
          "text": [
            "<class 'sympy.matrices.immutable.ImmutableDenseMatrix'>\n"
          ]
        },
        {
          "output_type": "execute_result",
          "data": {
            "text/plain": [
              "⎡ 2 ⎛    2               ⎞                                         2          \n",
              "⎢λ ⋅⎝3⋅ωₚ ⋅sin(θ₁) + 2⋅θ₁̈⎠     ⎛  2             ⎞   sin(θ₁ - θ₂)⋅θ₂̇    cos(θ\n",
              "⎢───────────────────────── + λ⋅⎝ωₚ ⋅sin(θ₁) + θ₁̈⎠ + ──────────────── + ──────\n",
              "⎢            6                                             2                  \n",
              "⎢─────────────────────────────────────────────────────────────────────────────\n",
              "⎢                                           2                                 \n",
              "⎢                                          λ                                  \n",
              "⎢                                                                             \n",
              "⎢                ⎛  2                          2                  ⎞           \n",
              "⎢              λ⋅⎝ωₚ ⋅sin(θ₂) - sin(θ₁ - θ₂)⋅θ₁̇  + cos(θ₁ - θ₂)⋅θ₁̈⎠   θ₂̈   \n",
              "⎢              ──────────────────────────────────────────────────── + ──      \n",
              "⎢                                       2                             3       \n",
              "⎢              ─────────────────────────────────────────────────────────      \n",
              "⎢                                           3                                 \n",
              "⎣                                          λ                                  \n",
              "\n",
              "        ⎤\n",
              "₁ - θ₂)⋅θ₂̈⎥\n",
              "─────────⎥\n",
              "2       ⎥\n",
              "────────⎥\n",
              "        ⎥\n",
              "        ⎥\n",
              "        ⎥\n",
              "        ⎥\n",
              "           ⎥\n",
              "        ⎥\n",
              "        ⎥\n",
              "        ⎥\n",
              "        ⎥\n",
              "        ⎦"
            ],
            "text/latex": "$\\displaystyle \\left[\\begin{matrix}\\frac{\\frac{\\lambda^{2} \\cdot \\left(3 \\omega_{p}^{2} \\sin{\\left(\\theta_{1} \\right)} + 2 \\ddot{\\theta}_{1}\\right)}{6} + \\lambda \\left(\\omega_{p}^{2} \\sin{\\left(\\theta_{1} \\right)} + \\ddot{\\theta}_{1}\\right) + \\frac{\\sin{\\left(\\theta_{1} - \\theta_{2} \\right)} \\dot{\\theta}_{2}^{2}}{2} + \\frac{\\cos{\\left(\\theta_{1} - \\theta_{2} \\right)} \\ddot{\\theta}_{2}}{2}}{\\lambda^{2}}\\\\\\frac{\\frac{\\lambda \\left(\\omega_{p}^{2} \\sin{\\left(\\theta_{2} \\right)} - \\sin{\\left(\\theta_{1} - \\theta_{2} \\right)} \\dot{\\theta}_{1}^{2} + \\cos{\\left(\\theta_{1} - \\theta_{2} \\right)} \\ddot{\\theta}_{1}\\right)}{2} + \\frac{\\ddot{\\theta}_{2}}{3}}{\\lambda^{3}}\\end{matrix}\\right]$"
          },
          "metadata": {},
          "execution_count": 21
        }
      ],
      "source": [
        "z=simplify(LM.form_lagranges_equations())/(l1)\n",
        "lambda_= symbols('lambda')\n",
        "omega_p = symbols('omega_p')\n",
        "mi = symbols('mi')\n",
        "z = z.subs(m1,mi*l1)\n",
        "print(type(z))\n",
        "z = z.subs(m2,mi*l2)\n",
        "z = z/l1\n",
        "z=z.subs(l2/l1,1/lambda_)/mi\n",
        "z=z.subs(g/l1,omega_p**2)\n",
        "y=expand(z/l1)\n",
        "y=y.subs(l2/l1,1/lambda_)\n",
        "y=y.subs(g/l1,omega_p**2)\n",
        "\n",
        "simplify(y)"
      ]
    },
    {
      "cell_type": "code",
      "execution_count": 22,
      "metadata": {
        "id": "v0C_mOCLhbxy",
        "outputId": "458fb209-b2f8-4ee6-fd26-7c18c3c510d8",
        "colab": {
          "base_uri": "https://localhost:8080/",
          "height": 88
        }
      },
      "outputs": [
        {
          "output_type": "execute_result",
          "data": {
            "text/plain": [
              "⎧                2   2                                   2                    \n",
              "⎪             6⋅λ ⋅ωₚ ⋅sin(θ₁)                    12⋅λ⋅ωₚ ⋅sin(θ₁)            \n",
              "⎨θ₁̈: ───────────────────────────────── + ───────────────────────────────── - \n",
              "⎪         2          2                        2          2                    \n",
              "⎩    - 4⋅λ  + 9⋅λ⋅cos (θ₁ - θ₂) - 12⋅λ   - 4⋅λ  + 9⋅λ⋅cos (θ₁ - θ₂) - 12⋅λ   -\n",
              "\n",
              "        2                                                          2          \n",
              "  9⋅λ⋅ωₚ ⋅sin(θ₂)⋅cos(θ₁ - θ₂)     9⋅λ⋅sin(θ₁ - θ₂)⋅cos(θ₁ - θ₂)⋅θ₁̇          \n",
              "───────────────────────────────── + ───────────────────────────────── + ──────\n",
              "    2          2                        2          2                        2 \n",
              " 4⋅λ  + 9⋅λ⋅cos (θ₁ - θ₂) - 12⋅λ   - 4⋅λ  + 9⋅λ⋅cos (θ₁ - θ₂) - 12⋅λ   - 4⋅λ  \n",
              "\n",
              "                  2                  2   2                                 2  \n",
              " 6⋅sin(θ₁ - θ₂)⋅θ₂̇                9⋅λ ⋅ωₚ ⋅sin(θ₁)⋅cos(θ₁ - θ₂)         6⋅λ ⋅\n",
              "───────────────────────────, θ₂̈: - ───────────────────────────── + ──────────\n",
              "         2                                     2                              \n",
              "+ 9⋅λ⋅cos (θ₁ - θ₂) - 12⋅λ         -4⋅λ + 9⋅cos (θ₁ - θ₂) - 12    -4⋅λ + 9⋅cos\n",
              "\n",
              " 2                      2                2             2                      \n",
              "ωₚ ⋅sin(θ₂)           6⋅λ ⋅sin(θ₁ - θ₂)⋅θ₁̇      18⋅λ⋅ωₚ ⋅sin(θ₁)⋅cos(θ₁ - θ₂)\n",
              "───────────────── - ─────────────────────────── - ────────────────────────────\n",
              "2                             2                              2                \n",
              " (θ₁ - θ₂) - 12   -4⋅λ + 9⋅cos (θ₁ - θ₂) - 12    -4⋅λ + 9⋅cos (θ₁ - θ₂) - 12  \n",
              "\n",
              "               2                                       2                      \n",
              "         18⋅λ⋅ωₚ ⋅sin(θ₂)           18⋅λ⋅sin(θ₁ - θ₂)⋅θ₁̇      9⋅sin(θ₁ - θ₂)⋅\n",
              "─ + ─────────────────────────── - ─────────────────────────── - ──────────────\n",
              "              2                             2                               2 \n",
              "  -4⋅λ + 9⋅cos (θ₁ - θ₂) - 12   -4⋅λ + 9⋅cos (θ₁ - θ₂) - 12     -4⋅λ + 9⋅cos (\n",
              "\n",
              "              2⎫\n",
              "cos(θ₁ - θ₂)⋅θ₂̇ ⎪\n",
              "─────────────────⎬\n",
              "               ⎪\n",
              "θ₁ - θ₂) - 12  ⎭"
            ],
            "text/latex": "$\\displaystyle \\left\\{ \\ddot{\\theta}_{1} : \\frac{6 \\lambda^{2} \\omega_{p}^{2} \\sin{\\left(\\theta_{1} \\right)}}{- 4 \\lambda^{2} + 9 \\lambda \\cos^{2}{\\left(\\theta_{1} - \\theta_{2} \\right)} - 12 \\lambda} + \\frac{12 \\lambda \\omega_{p}^{2} \\sin{\\left(\\theta_{1} \\right)}}{- 4 \\lambda^{2} + 9 \\lambda \\cos^{2}{\\left(\\theta_{1} - \\theta_{2} \\right)} - 12 \\lambda} - \\frac{9 \\lambda \\omega_{p}^{2} \\sin{\\left(\\theta_{2} \\right)} \\cos{\\left(\\theta_{1} - \\theta_{2} \\right)}}{- 4 \\lambda^{2} + 9 \\lambda \\cos^{2}{\\left(\\theta_{1} - \\theta_{2} \\right)} - 12 \\lambda} + \\frac{9 \\lambda \\sin{\\left(\\theta_{1} - \\theta_{2} \\right)} \\cos{\\left(\\theta_{1} - \\theta_{2} \\right)} \\dot{\\theta}_{1}^{2}}{- 4 \\lambda^{2} + 9 \\lambda \\cos^{2}{\\left(\\theta_{1} - \\theta_{2} \\right)} - 12 \\lambda} + \\frac{6 \\sin{\\left(\\theta_{1} - \\theta_{2} \\right)} \\dot{\\theta}_{2}^{2}}{- 4 \\lambda^{2} + 9 \\lambda \\cos^{2}{\\left(\\theta_{1} - \\theta_{2} \\right)} - 12 \\lambda}, \\  \\ddot{\\theta}_{2} : - \\frac{9 \\lambda^{2} \\omega_{p}^{2} \\sin{\\left(\\theta_{1} \\right)} \\cos{\\left(\\theta_{1} - \\theta_{2} \\right)}}{- 4 \\lambda + 9 \\cos^{2}{\\left(\\theta_{1} - \\theta_{2} \\right)} - 12} + \\frac{6 \\lambda^{2} \\omega_{p}^{2} \\sin{\\left(\\theta_{2} \\right)}}{- 4 \\lambda + 9 \\cos^{2}{\\left(\\theta_{1} - \\theta_{2} \\right)} - 12} - \\frac{6 \\lambda^{2} \\sin{\\left(\\theta_{1} - \\theta_{2} \\right)} \\dot{\\theta}_{1}^{2}}{- 4 \\lambda + 9 \\cos^{2}{\\left(\\theta_{1} - \\theta_{2} \\right)} - 12} - \\frac{18 \\lambda \\omega_{p}^{2} \\sin{\\left(\\theta_{1} \\right)} \\cos{\\left(\\theta_{1} - \\theta_{2} \\right)}}{- 4 \\lambda + 9 \\cos^{2}{\\left(\\theta_{1} - \\theta_{2} \\right)} - 12} + \\frac{18 \\lambda \\omega_{p}^{2} \\sin{\\left(\\theta_{2} \\right)}}{- 4 \\lambda + 9 \\cos^{2}{\\left(\\theta_{1} - \\theta_{2} \\right)} - 12} - \\frac{18 \\lambda \\sin{\\left(\\theta_{1} - \\theta_{2} \\right)} \\dot{\\theta}_{1}^{2}}{- 4 \\lambda + 9 \\cos^{2}{\\left(\\theta_{1} - \\theta_{2} \\right)} - 12} - \\frac{9 \\sin{\\left(\\theta_{1} - \\theta_{2} \\right)} \\cos{\\left(\\theta_{1} - \\theta_{2} \\right)} \\dot{\\theta}_{2}^{2}}{- 4 \\lambda + 9 \\cos^{2}{\\left(\\theta_{1} - \\theta_{2} \\right)} - 12}\\right\\}$"
          },
          "metadata": {},
          "execution_count": 22
        }
      ],
      "source": [
        "e1=y[0]; e2=y[1]\n",
        "eq1 = sympy.Eq(e1, 0)\n",
        "eq2 = sympy.Eq(e2, 0)\n",
        "theta1_2p=diff(theta1_p)\n",
        "theta2_2p=diff(theta2_p)\n",
        "h = solve([eq1, eq2], [theta1_2p, theta2_2p])\n",
        "simplify(h)\n",
        "\n",
        "\n",
        "\n"
      ]
    },
    {
      "cell_type": "markdown",
      "metadata": {
        "id": "rc5U65UGhbxy"
      },
      "source": [
        "Espaço de Estados (não linear)"
      ]
    },
    {
      "cell_type": "code",
      "execution_count": 23,
      "metadata": {
        "id": "r6cN8BIChbxz"
      },
      "outputs": [],
      "source": [
        "x_p = Matrix([[theta1_p], [theta2_p], [diff(theta1_p)], [diff(theta2_p)]])\n",
        "\n",
        "(theta1_2p,  theta2_2p)  = (6*lambda_**2*omega_p**2*sin(theta1)/(-4*lambda_**2 + 9*lambda_*cos(theta1 - theta2)**2 - 12*lambda_) + 12*lambda_*omega_p**2*sin(theta1)/(-4*lambda_**2 + 9*lambda_*cos(theta1- theta2)**2 - 12*lambda_) - 9*lambda_*omega_p**2*sin(theta2)*cos(theta1 - theta2)/(-4*lambda_**2 + 9*lambda_*cos(theta1 - theta2)**2 - 12*lambda_) + 9*lambda_*sin(theta1 - theta2)*cos(theta1 - theta2)*diff(theta1, t)**2/(-4*lambda_**2 + 9*lambda_*cos(theta1 - theta2)**2 - 12*lambda_) + 6*sin(theta1 - theta2)*diff(theta2, t)**2/(-4*lambda_**2 + 9*lambda_*cos(theta1 - theta2)**2-12*lambda_)         ,        (-9*lambda_**2*omega_p**2*sin(theta1)*cos(theta1 - theta2))/(-4*lambda_ + 9*cos(theta1 - theta2)**2 - 12) + 6*lambda_**2*omega_p**2*sin(theta2)/(-4*lambda_+ 9*cos(theta1 - theta2)**2 - 12) - 6*lambda_**2*sin(theta1 - theta2)*diff(theta1, t)**2/(-4*lambda_ + 9*cos(theta1 - theta2)**2 - 12) - 18*lambda_*omega_p**2*sin(theta1)*cos(theta1 - theta2)/(-4*lambda_ + 9*cos(theta1 - theta2)**2 - 12) + 18*lambda_*omega_p**2*sin(theta2)/(-4*lambda_ + 9*cos(theta1 - theta2)**2 - 12) - 18*lambda_*sin(theta1 - theta2)*diff(theta1, t)**2/(-4*lambda_ + 9*cos(theta1 - theta2)**2 - 12) - 9*sin(theta1 - theta2)*cos(theta1 - theta2)*diff(theta2, t)**2/(-4*lambda_ + 9*cos(theta1 - theta2)**2-12))\n",
        "\n",
        "\n",
        "f_x = Matrix([[theta1_p], [theta2_p], [theta1_2p], [theta2_2p]])\n",
        "\n",
        "ee = sympy.Eq(x_p,f_x )\n",
        "ee\n",
        "\n",
        "y = Matrix([[theta1], [theta2], [0], [0]])\n"
      ]
    },
    {
      "cell_type": "markdown",
      "metadata": {
        "id": "cD46CFiIhbxz"
      },
      "source": [
        "Linearização"
      ]
    },
    {
      "cell_type": "code",
      "execution_count": 24,
      "metadata": {
        "id": "_dptdlxzhbxz",
        "colab": {
          "base_uri": "https://localhost:8080/",
          "height": 68
        },
        "outputId": "9275202f-1092-4b2a-ac61-aff3e76a2aa1"
      },
      "outputs": [
        {
          "output_type": "execute_result",
          "data": {
            "text/plain": [
              "⎛   2   2             2            2          2   2         2   2             \n",
              "⎜6⋅λ ⋅ωₚ ⋅θ₁ + 12⋅λ⋅ωₚ ⋅θ₁ - 9⋅λ⋅ωₚ ⋅θ₂  - 9⋅λ ⋅ωₚ ⋅θ₁ + 6⋅λ ⋅ωₚ ⋅θ₂ - 18⋅λ⋅ωₚ\n",
              "⎜──────────────────────────────────────, ─────────────────────────────────────\n",
              "⎜                  2                                             -4⋅λ - 3     \n",
              "⎝             - 4⋅λ  - 3⋅λ                                                    \n",
              "\n",
              "2             2   ⎞\n",
              " ⋅θ₁ + 18⋅λ⋅ωₚ ⋅θ₂⎟\n",
              "──────────────────⎟\n",
              "                  ⎟\n",
              "                  ⎠"
            ],
            "text/latex": "$\\displaystyle \\left( \\frac{6 \\lambda^{2} \\omega_{p}^{2} \\theta_{1} + 12 \\lambda \\omega_{p}^{2} \\theta_{1} - 9 \\lambda \\omega_{p}^{2} \\theta_{2}}{- 4 \\lambda^{2} - 3 \\lambda}, \\  \\frac{- 9 \\lambda^{2} \\omega_{p}^{2} \\theta_{1} + 6 \\lambda^{2} \\omega_{p}^{2} \\theta_{2} - 18 \\lambda \\omega_{p}^{2} \\theta_{1} + 18 \\lambda \\omega_{p}^{2} \\theta_{2}}{- 4 \\lambda - 3}\\right)$"
          },
          "metadata": {},
          "execution_count": 24
        }
      ],
      "source": [
        "theta1_2p_lin = (6*lambda_**2*omega_p**2*theta1  +  12*lambda_*omega_p**2*theta1  -  9*lambda_*omega_p**2*theta2 )  / (-4*lambda_**2-3*lambda_)\n",
        "theta2_2p_lin = (-9*lambda_**2*omega_p**2*theta1  +  6*lambda_**2*omega_p**2*theta2     -   18*lambda_*omega_p**2*theta1   +   18*lambda_*omega_p**2*theta2 ) / (-4*lambda_-3)\n",
        "(theta1_2p_lin,theta2_2p_lin)"
      ]
    },
    {
      "cell_type": "markdown",
      "metadata": {
        "id": "OhSnj5myhbx0"
      },
      "source": [
        "Frequências naturais modelo linearizado"
      ]
    },
    {
      "cell_type": "code",
      "execution_count": 25,
      "metadata": {
        "id": "IaNkpkimhbx0",
        "colab": {
          "base_uri": "https://localhost:8080/",
          "height": 37
        },
        "outputId": "65be4d30-5fb4-4aeb-8900-6b9e35e7699a"
      },
      "outputs": [
        {
          "output_type": "execute_result",
          "data": {
            "text/plain": [
              "(0.916575611660417, 6.15998688833958)"
            ],
            "text/latex": "$\\displaystyle \\left( 0.916575611660417, \\  6.15998688833958\\right)$"
          },
          "metadata": {},
          "execution_count": 25
        }
      ],
      "source": [
        "M=Matrix([[-4*lambda_**2-3*lambda_,0],[0,-4*lambda_-3]])\n",
        "K=Matrix([[-(6*lambda_**2*omega_p**2+12*lambda_*omega_p**2),9*lambda_*omega_p**2],[9*lambda_**2*omega_p**2+18*lambda_*omega_p**2,-(6*lambda_**2*omega_p**2+18*lambda_*omega_p**2)]])\n",
        "omega=symbols('omega')\n",
        "X=K-omega*M\n",
        "Xeq=X.det()\n",
        "Xeq=sympy.Eq(Xeq,0)\n",
        "omegas=solve(Xeq,omega)\n",
        "omega1=omegas[0]\n",
        "omega1=omega1.subs(lambda_,1.65)\n",
        "omega1=omega1.subs(omega_p,1)\n",
        "omega2=omegas[1]\n",
        "omega2=omega2.subs(lambda_,1.65)\n",
        "omega2=omega2.subs(omega_p,1)\n",
        "(omega1,omega2)"
      ]
    },
    {
      "cell_type": "markdown",
      "metadata": {
        "id": "sUIbM37Ihbx0"
      },
      "source": [
        "Espaço de Estados Linear"
      ]
    },
    {
      "cell_type": "code",
      "execution_count": 26,
      "metadata": {
        "id": "01wufcjChbx0",
        "colab": {
          "base_uri": "https://localhost:8080/",
          "height": 116
        },
        "outputId": "5bc58ceb-6b29-467e-c00d-754659787f71"
      },
      "outputs": [
        {
          "output_type": "execute_result",
          "data": {
            "text/plain": [
              "⎛⎡                          θ₁̇                           ⎤  ⎡          0     \n",
              "⎜⎢                                                       ⎥  ⎢                 \n",
              "⎜⎢                          θ₂̇                           ⎥  ⎢          0     \n",
              "⎜⎢                                                       ⎥  ⎢                 \n",
              "⎜⎢           2   2             2            2            ⎥  ⎢    2   2        \n",
              "⎜⎢        6⋅λ ⋅ωₚ ⋅θ₁ + 12⋅λ⋅ωₚ ⋅θ₁ - 9⋅λ⋅ωₚ ⋅θ₂         ⎥  ⎢ 6⋅λ ⋅ωₚ  + 12⋅λ⋅\n",
              "⎜⎢        ──────────────────────────────────────         ⎥  ⎢ ────────────────\n",
              "⎜⎢                          2                            ⎥, ⎢          2      \n",
              "⎜⎢                     - 4⋅λ  - 3⋅λ                      ⎥  ⎢     - 4⋅λ  - 3⋅λ\n",
              "⎜⎢                                                       ⎥  ⎢                 \n",
              "⎜⎢     2   2         2   2             2             2   ⎥  ⎢     2   2       \n",
              "⎜⎢- 9⋅λ ⋅ωₚ ⋅θ₁ + 6⋅λ ⋅ωₚ ⋅θ₂ - 18⋅λ⋅ωₚ ⋅θ₁ + 18⋅λ⋅ωₚ ⋅θ₂⎥  ⎢- 9⋅λ ⋅ωₚ  - 18⋅λ\n",
              "⎜⎢───────────────────────────────────────────────────────⎥  ⎢─────────────────\n",
              "⎝⎣                        -4⋅λ - 3                       ⎦  ⎣       -4⋅λ - 3  \n",
              "\n",
              "                0           1  0⎤      ⎞\n",
              "                               ⎥      ⎟\n",
              "                0           0  1⎥      ⎟\n",
              "                               ⎥      ⎟\n",
              "  2              2             ⎥  ⎡θ₁⎤⎟\n",
              "ωₚ        -9⋅λ⋅ωₚ              ⎥  ⎢  ⎥⎟\n",
              "───      ────────────      0  0⎥  ⎢θ₂⎥⎟\n",
              "              2                ⎥, ⎢  ⎥⎟\n",
              "         - 4⋅λ  - 3⋅λ          ⎥  ⎢θ₁̇⎥⎟\n",
              "                               ⎥  ⎢  ⎥⎟\n",
              "   2     2   2          2      ⎥  ⎣θ₂̇⎦⎟\n",
              "⋅ωₚ   6⋅λ ⋅ωₚ  + 18⋅λ⋅ωₚ       ⎥      ⎟\n",
              "────  ───────────────────  0  0⎥      ⎟\n",
              "            -4⋅λ - 3           ⎦      ⎠"
            ],
            "text/latex": "$\\displaystyle \\left( \\left[\\begin{matrix}\\dot{\\theta}_{1}\\\\\\dot{\\theta}_{2}\\\\\\frac{6 \\lambda^{2} \\omega_{p}^{2} \\theta_{1} + 12 \\lambda \\omega_{p}^{2} \\theta_{1} - 9 \\lambda \\omega_{p}^{2} \\theta_{2}}{- 4 \\lambda^{2} - 3 \\lambda}\\\\\\frac{- 9 \\lambda^{2} \\omega_{p}^{2} \\theta_{1} + 6 \\lambda^{2} \\omega_{p}^{2} \\theta_{2} - 18 \\lambda \\omega_{p}^{2} \\theta_{1} + 18 \\lambda \\omega_{p}^{2} \\theta_{2}}{- 4 \\lambda - 3}\\end{matrix}\\right], \\  \\left[\\begin{matrix}0 & 0 & 1 & 0\\\\0 & 0 & 0 & 1\\\\\\frac{6 \\lambda^{2} \\omega_{p}^{2} + 12 \\lambda \\omega_{p}^{2}}{- 4 \\lambda^{2} - 3 \\lambda} & - \\frac{9 \\lambda \\omega_{p}^{2}}{- 4 \\lambda^{2} - 3 \\lambda} & 0 & 0\\\\\\frac{- 9 \\lambda^{2} \\omega_{p}^{2} - 18 \\lambda \\omega_{p}^{2}}{- 4 \\lambda - 3} & \\frac{6 \\lambda^{2} \\omega_{p}^{2} + 18 \\lambda \\omega_{p}^{2}}{- 4 \\lambda - 3} & 0 & 0\\end{matrix}\\right], \\  \\left[\\begin{matrix}\\theta_{1}\\\\\\theta_{2}\\\\\\dot{\\theta}_{1}\\\\\\dot{\\theta}_{2}\\end{matrix}\\right]\\right)$"
          },
          "metadata": {},
          "execution_count": 26
        }
      ],
      "source": [
        "x_lin = Matrix([[theta1], [theta2], [theta1_p], [theta2_p]])\n",
        "\n",
        "x_p_lin = Matrix([[theta1_p], [theta2_p], [theta1_2p_lin], [theta2_2p_lin]])\n",
        "\n",
        "A_lin = Matrix([[0, 0, 1, 0], [0, 0, 0, 1], [(6*lambda_**2*omega_p**2 + 12*lambda_*omega_p**2)/(-4*lambda_**2 - 3*lambda_) ,(- 9*lambda_*omega_p**2)/(-4*lambda_**2 - 3*lambda_) , 0, 0], [(-9*lambda_**2*omega_p**2 - 18*lambda_*(omega_p**2))/(-4*lambda_ - 3) ,(6*lambda_**2*omega_p**2 + 18*lambda_*(omega_p**2))/(-4*lambda_ - 3) , 0, 0]])\n",
        "\n",
        "ee_lin = sympy.Eq(x_p_lin,  A_lin * x_lin)\n",
        "\n",
        "x_p_lin,A_lin,x_lin\n"
      ]
    }
  ],
  "metadata": {
    "kernelspec": {
      "display_name": "Python 3",
      "language": "python",
      "name": "python3"
    },
    "language_info": {
      "codemirror_mode": {
        "name": "ipython",
        "version": 3
      },
      "file_extension": ".py",
      "mimetype": "text/x-python",
      "name": "python",
      "nbconvert_exporter": "python",
      "pygments_lexer": "ipython3",
      "version": "3.11.2"
    },
    "orig_nbformat": 4,
    "colab": {
      "provenance": []
    }
  },
  "nbformat": 4,
  "nbformat_minor": 0
}